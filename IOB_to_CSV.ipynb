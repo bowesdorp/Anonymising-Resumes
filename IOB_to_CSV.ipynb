{
 "cells": [
  {
   "cell_type": "code",
   "execution_count": null,
   "metadata": {},
   "outputs": [],
   "source": [
    "# the followiing file contains code to convert iob format to a csv"
   ]
  },
  {
   "cell_type": "code",
   "execution_count": null,
   "metadata": {},
   "outputs": [],
   "source": [
    "import pandas as pd\n",
    "import os\n",
    "import codecs\n",
    "import glob"
   ]
  },
  {
   "cell_type": "code",
   "execution_count": null,
   "metadata": {},
   "outputs": [],
   "source": [
    "def iob_to_csv(path):\n",
    "    df = pd.DataFrame(columns=['File_id', 'Word', 'Tag'])\n",
    "    outpath = path + 'csv/1_198.csv'\n",
    "    \n",
    "    # get the individual annotated files\n",
    "    filelist = glob.glob(os.path.join(path, 'bio/*.txt'))\n",
    "    counter = 0\n",
    "    \n",
    "    # loop through the files\n",
    "    for file in sorted(filelist):\n",
    "        counter2 = 1\n",
    "        file_split = file.split('.')\n",
    "        file_id = file_split[1].split('\\\\')[1].split('_')[0]\n",
    "        file_type = file_split[len(file_split)-1]\n",
    "        \n",
    "        \n",
    "        fd = codecs.open(file, 'r', encoding='utf-8')\n",
    "        data = fd.readlines()\n",
    "        \n",
    "        # loop through the lines\n",
    "        for line in data:\n",
    "            txt_split = line.split(',')\n",
    "            if counter2 > 1:\n",
    "                if (len(txt_split)  == 2 and is_ascii(txt_split[0])):\n",
    "                    df = df.append({\n",
    "                        'File_id': str(file_id),\n",
    "                        'Word': txt_split[0],\n",
    "                        'Tag': txt_split[1].replace('\\n', '')\n",
    "                    }, ignore_index=True)\n",
    "                    \n",
    "            counter2 +=1\n",
    "\n",
    "        fd.close()\n",
    "        counter+= 1\n",
    "    \n",
    "    # save csv file\n",
    "    df.to_csv(outpath, index=False, header=True)\n",
    "    \n",
    "# check if token is ascii esle filter out\n",
    "def is_ascii(s):\n",
    "    return all(ord(c) < 128 for c in s)"
   ]
  },
  {
   "cell_type": "code",
   "execution_count": null,
   "metadata": {},
   "outputs": [],
   "source": [
    "# generate csv for annotater 1\n",
    "path = './data/annotater_data/annotater_1_v1/'\n",
    "iob_to_csv(path)"
   ]
  },
  {
   "cell_type": "code",
   "execution_count": null,
   "metadata": {},
   "outputs": [],
   "source": [
    "# generate csv for annotater 2\n",
    "path = './data/annotater_data/annotater_2_v4/'\n",
    "iob_to_csv(path)"
   ]
  },
  {
   "cell_type": "code",
   "execution_count": null,
   "metadata": {},
   "outputs": [],
   "source": [
    "# generate csv for annotater 3\n",
    "path = './data/annotater_data/annotater_3_v3/'\n",
    "iob_to_csv(path)"
   ]
  },
  {
   "cell_type": "code",
   "execution_count": null,
   "metadata": {},
   "outputs": [],
   "source": [
    "# generate csv for annotater 3\n",
    "path = './data/annotater_data/annotater_4_v2/'\n",
    "iob_to_csv(path)"
   ]
  }
 ],
 "metadata": {
  "kernelspec": {
   "display_name": "Python 3",
   "language": "python",
   "name": "python3"
  },
  "language_info": {
   "codemirror_mode": {
    "name": "ipython",
    "version": 3
   },
   "file_extension": ".py",
   "mimetype": "text/x-python",
   "name": "python",
   "nbconvert_exporter": "python",
   "pygments_lexer": "ipython3",
   "version": "3.8.3"
  }
 },
 "nbformat": 4,
 "nbformat_minor": 4
}
