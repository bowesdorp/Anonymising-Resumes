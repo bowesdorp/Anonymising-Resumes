{
 "cells": [
  {
   "cell_type": "code",
   "execution_count": 6,
   "metadata": {},
   "outputs": [
    {
     "name": "stdout",
     "output_type": "stream",
     "text": [
      "Collecting faker\n",
      "  Downloading Faker-8.0.0-py3-none-any.whl (1.2 MB)\n",
      "\u001b[K     |████████████████████████████████| 1.2 MB 1.9 MB/s eta 0:00:01\n",
      "\u001b[?25hCollecting text-unidecode==1.3\n",
      "  Using cached text_unidecode-1.3-py2.py3-none-any.whl (78 kB)\n",
      "Requirement already satisfied: python-dateutil>=2.4 in /Users/bowesdorp/opt/anaconda3/lib/python3.8/site-packages (from faker) (2.8.1)\n",
      "Requirement already satisfied: six>=1.5 in /Users/bowesdorp/opt/anaconda3/lib/python3.8/site-packages (from python-dateutil>=2.4->faker) (1.12.0)\n",
      "Installing collected packages: text-unidecode, faker\n",
      "Successfully installed faker-8.0.0 text-unidecode-1.3\n"
     ]
    }
   ],
   "source": [
    "import sys\n",
    "!{sys.executable} -m pip install faker"
   ]
  },
  {
   "cell_type": "code",
   "execution_count": 7,
   "metadata": {},
   "outputs": [],
   "source": [
    "from faker import Faker"
   ]
  },
  {
   "cell_type": "code",
   "execution_count": 11,
   "metadata": {},
   "outputs": [
    {
     "name": "stdout",
     "output_type": "stream",
     "text": [
      "name: Dawn Mckinney\n",
      "address: Unit 0088 Box 7946\n",
      "DPO AA 04038\n",
      "phone: 7976728001\n",
      "dob: 1970-09-08\n",
      "email: michael57@gardner.com\n",
      "nationality: Nicaragua\n"
     ]
    }
   ],
   "source": [
    "fake = Faker()\n",
    "f_name = fake.name()\n",
    "f_address = fake.address()\n",
    "f_phone = fake.phone_number()\n",
    "f_dob = fake.date_of_birth()\n",
    "f_email = fake.email()\n",
    "f_country = fake.country()\n",
    "\n",
    "print(f'name: {f_name}')\n",
    "print(f'address: {f_address}')\n",
    "print(f'phone: {f_phone}')\n",
    "print(f'dob: {f_dob}')\n",
    "print(f'email: {f_email}')\n",
    "print(f'nationality: {f_country}')"
   ]
  },
  {
   "cell_type": "code",
   "execution_count": null,
   "metadata": {},
   "outputs": [],
   "source": []
  },
  {
   "cell_type": "code",
   "execution_count": null,
   "metadata": {},
   "outputs": [],
   "source": []
  }
 ],
 "metadata": {
  "kernelspec": {
   "display_name": "Python 3",
   "language": "python",
   "name": "python3"
  },
  "language_info": {
   "codemirror_mode": {
    "name": "ipython",
    "version": 3
   },
   "file_extension": ".py",
   "mimetype": "text/x-python",
   "name": "python",
   "nbconvert_exporter": "python",
   "pygments_lexer": "ipython3",
   "version": "3.8.3"
  }
 },
 "nbformat": 4,
 "nbformat_minor": 4
}
