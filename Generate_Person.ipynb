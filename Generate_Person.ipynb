{
 "cells": [
  {
   "cell_type": "code",
   "execution_count": 1,
   "metadata": {},
   "outputs": [],
   "source": [
    "# the following file contains the code to generate the pseudonised data for a resume"
   ]
  },
  {
   "cell_type": "code",
   "execution_count": 2,
   "metadata": {},
   "outputs": [],
   "source": [
    "from faker import Faker"
   ]
  },
  {
   "cell_type": "code",
   "execution_count": 3,
   "metadata": {},
   "outputs": [
    {
     "name": "stdout",
     "output_type": "stream",
     "text": [
      "name: William Kane\n",
      "address: 2061 Miller Isle Apt. 476\n",
      "South Edwardville, GA 81281\n",
      "phone: 431-904-0043x2047\n",
      "dob: 2021-05-28\n",
      "email: marcusray@gmail.com\n",
      "nationality: Honduras\n"
     ]
    }
   ],
   "source": [
    "fake = Faker()\n",
    "f_name = fake.name()\n",
    "f_address = fake.address()\n",
    "f_phone = fake.phone_number()\n",
    "f_dob = fake.date_of_birth()\n",
    "f_email = fake.email()\n",
    "f_country = fake.country()\n",
    "\n",
    "print(f'name: {f_name}')\n",
    "print(f'address: {f_address}')\n",
    "print(f'phone: {f_phone}')\n",
    "print(f'dob: {f_dob}')\n",
    "print(f'email: {f_email}')\n",
    "print(f'nationality: {f_country}')"
   ]
  }
 ],
 "metadata": {
  "kernelspec": {
   "display_name": "Python 3",
   "language": "python",
   "name": "python3"
  },
  "language_info": {
   "codemirror_mode": {
    "name": "ipython",
    "version": 3
   },
   "file_extension": ".py",
   "mimetype": "text/x-python",
   "name": "python",
   "nbconvert_exporter": "python",
   "pygments_lexer": "ipython3",
   "version": "3.8.3"
  }
 },
 "nbformat": 4,
 "nbformat_minor": 4
}
