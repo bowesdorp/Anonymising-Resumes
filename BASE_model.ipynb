{
 "cells": [
  {
   "cell_type": "code",
   "execution_count": 1,
   "metadata": {},
   "outputs": [],
   "source": [
    "# the following file contains the code for the BASE model"
   ]
  },
  {
   "cell_type": "code",
   "execution_count": 64,
   "metadata": {},
   "outputs": [],
   "source": [
    "# import dependencies\n",
    "import pandas as pd\n",
    "import numpy as np\n",
    "import re\n",
    "import enchant\n",
    "import sys\n",
    "from collections import Counter"
   ]
  },
  {
   "cell_type": "code",
   "execution_count": 65,
   "metadata": {},
   "outputs": [],
   "source": [
    "def prepare_data(file_path):\n",
    "    # load dataframe\n",
    "    df = pd.read_csv(file_path, encoding=\"latin1\")\n",
    "    \n",
    "    # drop nan\n",
    "    df = df.dropna()\n",
    "    \n",
    "    padding_length = 4\n",
    "    sentence_length = 75\n",
    "    splits = split_in_sentences(sentence_length, padding_length, df)\n",
    "    output = filter_splits(splits, False)\n",
    "    output['Word'] = output['Word']\n",
    "    output = output.dropna()\n",
    "    return output\n",
    "\n",
    "\n",
    "# filter the sentences\n",
    "def filter_splits(d, f=True):\n",
    "    if f:\n",
    "        split_tag = d.groupby('Split #')['Tag'].apply(list)\n",
    "        to_remove = []\n",
    "        for key, value in split_tag.items():\n",
    "            tags_in_split = list(set(value))\n",
    "            if len(tags_in_split) == 1 and tags_in_split[0] == 'O':\n",
    "                d = d[d['Split #'] != key]\n",
    "        \n",
    "    return d\n",
    "\n",
    "\n",
    "# split the dataset into sentences\n",
    "def split_in_sentences(sen_len, pad_len, d):\n",
    "    doc_words = d.groupby('File_id')['Word'].apply(list)\n",
    "    doc_tags = d.groupby('File_id')['Tag'].apply(list)\n",
    "    \n",
    "    splits = []\n",
    "    cur_counter = 0\n",
    "    \n",
    "    for i in range(len(doc_words)):\n",
    "        cur_doc = list(doc_words)[i]\n",
    "        cur_tags = list(doc_tags)[i]\n",
    "        cur_counter += 1\n",
    "        for j in range(len(cur_doc)):\n",
    "            splits.append('split ' + str(cur_counter))\n",
    "            if ((j % sen_len) == 0 and j != 0):  \n",
    "                cur_counter += 1\n",
    "    \n",
    "    d['Split #'] = splits\n",
    "    return d"
   ]
  },
  {
   "cell_type": "code",
   "execution_count": 66,
   "metadata": {},
   "outputs": [],
   "source": [
    "f_path = './data/final/dataset.csv'\n",
    "d = prepare_data(f_path)\n",
    "eng_dict = enchant.Dict(\"en_US\")"
   ]
  },
  {
   "cell_type": "code",
   "execution_count": 67,
   "metadata": {},
   "outputs": [],
   "source": [
    "words = d['Word'].values\n",
    "tags = d['Tag'].values\n",
    "\n",
    "NATIONALITIES = (pd.read_csv('./nationalities.csv', encoding=\"latin1\"))['Nationality'].values\n",
    "\n",
    "wordset = set(words)"
   ]
  },
  {
   "cell_type": "code",
   "execution_count": 68,
   "metadata": {},
   "outputs": [],
   "source": [
    "# check the entries for the base model\n",
    "def validate(text):\n",
    "    classifications = []\n",
    "    \n",
    "    if check_email(text):\n",
    "        classifications.append('EMAIL')\n",
    "    \n",
    "    elif check_address(text):\n",
    "        classifications.append('ADDRESS')\n",
    "        \n",
    "    elif check_phone(text):\n",
    "        classifications.append('PHONE')\n",
    "        \n",
    "    elif check_name(text):\n",
    "        classifications.append('NAME')\n",
    "        \n",
    "    elif check_religion(text):\n",
    "        classifications.append('RELIGION')\n",
    "        \n",
    "    elif check_gender(text):\n",
    "        classifications.append('GENDER')\n",
    "        \n",
    "    elif check_age(text):\n",
    "        classifications.append('AGE')\n",
    "        \n",
    "    elif check_dob(text):\n",
    "        classifications.append('DOB')\n",
    "    \n",
    "    elif check_ethnicity(text):\n",
    "        classifications.append('ETHNICITY')\n",
    "    \n",
    "    elif check_nationality(text):\n",
    "        classifications.append('NATIONALITY')\n",
    "        \n",
    "    else:\n",
    "        classifications.append('O')\n",
    "        \n",
    "    return classifications[0]\n",
    "        \n",
    "    \n",
    "def check_age(text):\n",
    "    AGE = r\"\\d{1,3}\\syears|\\d{1,3}\\syear\"\n",
    "    \n",
    "    if re.match(AGE, text):\n",
    "        return True\n",
    "    else:\n",
    "        return False\n",
    "    \n",
    "def check_email(text):\n",
    "    EMAIL = r\"(?:[a-z0-9!#$%&'*+\\/=?^_`{|}~-]+(?:\\.[a-z0-9!#$%&'*+\\/=?^_`{|}~-]+)*|\\\"(?:[\\x01-\\x08\\x0b\\x0c\\x0e-\\x1f\\x21\\x23-\\x5b\\x5d-\\x7f]|\\\\[\\x01-\\x09\\x0b\\x0c\\x0e-\\x7f])*\\\")@(?:(?:[a-z0-9](?:[a-z0-9-]*[a-z0-9])?\\.)+[a-z0-9](?:[a-z0-9-]*[a-z0-9])?|\\[(?:(?:(2(5[0-5]|[0-4][0-9])|1[0-9][0-9]|[1-9]?[0-9]))\\.){3}(?:(2(5[0-5]|[0-4][0-9])|1[0-9][0-9]|[1-9]?[0-9])|[a-z0-9-]*[a-z0-9]:(?:[\\x01-\\x08\\x0b\\x0c\\x0e-\\x1f\\x21-\\x5a\\x53-\\x7f]|\\\\[\\x01-\\x09\\x0b\\x0c\\x0e-\\x7f])+)\\])\"\n",
    "    \n",
    "    if re.match(EMAIL, text):\n",
    "        return True\n",
    "    else:\n",
    "        return False\n",
    "    \n",
    "def check_phone(text):\n",
    "    PHONE = r\"^([+]?[\\s0-9]+)?(\\d{3}|[(]?[0-9]+[)])?([-]?[\\s]?[0-9])+$\"\n",
    "    if re.match(PHONE, text):\n",
    "        return True\n",
    "    else:\n",
    "        return False\n",
    "\n",
    "def check_name(text):\n",
    "    if text[0].isupper():\n",
    "        if (not eng_dict.check(text.lower())):\n",
    "            return True\n",
    "    return False\n",
    "\n",
    "\n",
    "def check_religion(text):\n",
    "    religions = ['christianity', 'islam', 'judiasm', 'buddhism', 'christian', 'jew', 'muslim', 'buddhist']\n",
    "    if text.lower() in religions:\n",
    "        return True\n",
    "    return False\n",
    "\n",
    "\n",
    "def check_gender(text):\n",
    "    genders = ['male', 'female']\n",
    "    if text.lower() in genders:\n",
    "        return True\n",
    "    return False\n",
    "\n",
    "def check_address(text):\n",
    "    ADDRESS = r\".*street.*|.*road.*|.*lane.*|.*avenue.*|.*drive.*|.*boulevard.*\"\n",
    "    if re.match(ADDRESS, text.lower()):\n",
    "        return True\n",
    "    else:\n",
    "        return False\n",
    "\n",
    "def check_dob(text):\n",
    "    DOB = r\"(?:\\d{1,2}[-/\\s]\\d{1,2}[-/\\s]'?\\d{2,4})|(?:\\d{2,4}[-/\\s]\\d{1,2}[-/\\s]\\d{1,2})|(?:(?:January|February|March|April|May|June|July|August|September|October|November|December|Jan|Feb|Mar|Apr|May|Jun|Jul|Aug|Sept|Sep|Oct|Nov|Dec)[-/\\s,]*?\\d{1,2}(?:\\s)*(?:rd|th|st)?(?:\\s)*[-/,]?(?:\\s)*'?\\d{2,4})|(?:\\d{1,2}(?:\\s)*(?:rd|th|st)?(?:\\s)*(?:January|February|March|April|May|June|July|August|September|October|November|December|Jan|Feb|Mar|Apr|May|Jun|Jul|Aug|Sept|Sep|Oct|Nov|Dec)(?:\\s)*?[-/,]?(?:\\s)*'?\\d{2,4})\"    \n",
    "    if re.match(DOB, text):\n",
    "        return True\n",
    "    else:\n",
    "        return False\n",
    "\n",
    "    \n",
    "def check_ethnicity(text):\n",
    "    ethnicity = ['caucasian', 'african american', 'asian', 'hispanic', 'native american']\n",
    "    if text.lower() in ethnicity:\n",
    "        return True\n",
    "    return False    \n",
    "\n",
    "\n",
    "def check_nationality(text):\n",
    "    if text in NATIONALITIES:\n",
    "        return True\n",
    "    return False "
   ]
  },
  {
   "cell_type": "code",
   "execution_count": 69,
   "metadata": {},
   "outputs": [],
   "source": [
    "output = []\n",
    "for i in range(len(words)):\n",
    "    output.append(validate(words[i]))"
   ]
  },
  {
   "cell_type": "code",
   "execution_count": 70,
   "metadata": {},
   "outputs": [
    {
     "name": "stdout",
     "output_type": "stream",
     "text": [
      "160125 160125\n"
     ]
    }
   ],
   "source": [
    "print(len(output), len(tags))"
   ]
  },
  {
   "cell_type": "code",
   "execution_count": 71,
   "metadata": {},
   "outputs": [
    {
     "name": "stdout",
     "output_type": "stream",
     "text": [
      "['O' 'O' 'B-NAME' ... 'O' 'O' 'O']\n"
     ]
    }
   ],
   "source": [
    "mod_tags = tags\n",
    "\n",
    "for j in range(len(mod_tags)):\n",
    "    if mod_tags[j] != 'O':\n",
    "        mod_tags[j] = mod_tags[j].split('-')[1]\n",
    "\n",
    "y_true = tags\n",
    "\n",
    "final_y = []\n",
    "final_pred = []\n",
    "for j in range(len(y_true)):\n",
    "    if y_true[j] != \"O\":\n",
    "        final_y.append(y_true[j])\n",
    "        final_pred.append(output[j])\n",
    "        "
   ]
  },
  {
   "cell_type": "code",
   "execution_count": 72,
   "metadata": {},
   "outputs": [],
   "source": [
    "from sklearn.metrics import precision_recall_fscore_support"
   ]
  },
  {
   "cell_type": "code",
   "execution_count": 73,
   "metadata": {},
   "outputs": [
    {
     "data": {
      "text/plain": [
       "(0.46424192889252147, 0.46424192889252147, 0.46424192889252147, None)"
      ]
     },
     "execution_count": 73,
     "metadata": {},
     "output_type": "execute_result"
    }
   ],
   "source": [
    "precision_recall_fscore_support(final_y, final_pred, average='micro')"
   ]
  },
  {
   "cell_type": "code",
   "execution_count": 74,
   "metadata": {},
   "outputs": [
    {
     "name": "stderr",
     "output_type": "stream",
     "text": [
      "/Users/bowesdorp/opt/anaconda3/lib/python3.8/site-packages/sklearn/metrics/_classification.py:1221: UndefinedMetricWarning: Precision and F-score are ill-defined and being set to 0.0 in labels with no predicted samples. Use `zero_division` parameter to control this behavior.\n",
      "  _warn_prf(average, modifier, msg_start, len(result))\n",
      "/Users/bowesdorp/opt/anaconda3/lib/python3.8/site-packages/sklearn/metrics/_classification.py:1221: UndefinedMetricWarning: Recall and F-score are ill-defined and being set to 0.0 in labels with no true samples. Use `zero_division` parameter to control this behavior.\n",
      "  _warn_prf(average, modifier, msg_start, len(result))\n"
     ]
    },
    {
     "data": {
      "text/plain": [
       "(0.643636220230971, 0.42443314035328245, 0.41454750093695075, None)"
      ]
     },
     "execution_count": 74,
     "metadata": {},
     "output_type": "execute_result"
    }
   ],
   "source": [
    "precision_recall_fscore_support(final_y, final_pred, average='macro')"
   ]
  },
  {
   "cell_type": "code",
   "execution_count": null,
   "metadata": {},
   "outputs": [],
   "source": []
  },
  {
   "cell_type": "code",
   "execution_count": 45,
   "metadata": {},
   "outputs": [
    {
     "name": "stdout",
     "output_type": "stream",
     "text": [
      "['NAME']\n"
     ]
    }
   ],
   "source": [
    "print(final_y)"
   ]
  },
  {
   "cell_type": "code",
   "execution_count": 86,
   "metadata": {},
   "outputs": [
    {
     "name": "stdout",
     "output_type": "stream",
     "text": [
      "              precision    recall  f1-score   support\n",
      "\n",
      "     ADDRESS       1.00      0.02      0.04       818\n",
      "         AGE       0.00      0.00      0.00        17\n",
      "         DOB       1.00      0.02      0.04       154\n",
      "       EMAIL       1.00      0.95      0.97       204\n",
      "   ETHNICITY       0.00      0.00      0.00         7\n",
      "      GENDER       1.00      1.00      1.00        29\n",
      "        NAME       0.50      0.80      0.62       487\n",
      " NATIONALITY       1.00      0.13      0.24        67\n",
      "           O       0.00      0.00      0.00         0\n",
      "       PHONE       0.58      0.74      0.65       662\n",
      "    RELIGION       1.00      1.00      1.00         2\n",
      "\n",
      "    accuracy                           0.46      2447\n",
      "   macro avg       0.64      0.42      0.41      2447\n",
      "weighted avg       0.78      0.46      0.42      2447\n",
      "\n"
     ]
    }
   ],
   "source": []
  },
  {
   "cell_type": "code",
   "execution_count": null,
   "metadata": {},
   "outputs": [],
   "source": []
  }
 ],
 "metadata": {
  "kernelspec": {
   "display_name": "Python 3",
   "language": "python",
   "name": "python3"
  },
  "language_info": {
   "codemirror_mode": {
    "name": "ipython",
    "version": 3
   },
   "file_extension": ".py",
   "mimetype": "text/x-python",
   "name": "python",
   "nbconvert_exporter": "python",
   "pygments_lexer": "ipython3",
   "version": "3.8.3"
  }
 },
 "nbformat": 4,
 "nbformat_minor": 4
}
