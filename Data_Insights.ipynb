{
 "cells": [
  {
   "cell_type": "code",
   "execution_count": 11,
   "metadata": {},
   "outputs": [],
   "source": [
    "# the following file contains some data insights"
   ]
  },
  {
   "cell_type": "code",
   "execution_count": 12,
   "metadata": {},
   "outputs": [],
   "source": [
    "# import dependencies\n",
    "import pandas as pd\n",
    "import os\n",
    "import sys\n",
    "import numpy as np\n",
    "from collections import Counter\n",
    "import matplotlib.pyplot as plt"
   ]
  },
  {
   "cell_type": "code",
   "execution_count": 13,
   "metadata": {},
   "outputs": [],
   "source": [
    "df = pd.read_csv('./data/final/dataset.csv', encoding=\"latin1\")"
   ]
  },
  {
   "cell_type": "code",
   "execution_count": 14,
   "metadata": {},
   "outputs": [
    {
     "data": {
      "text/html": [
       "<div>\n",
       "<style scoped>\n",
       "    .dataframe tbody tr th:only-of-type {\n",
       "        vertical-align: middle;\n",
       "    }\n",
       "\n",
       "    .dataframe tbody tr th {\n",
       "        vertical-align: top;\n",
       "    }\n",
       "\n",
       "    .dataframe thead th {\n",
       "        text-align: right;\n",
       "    }\n",
       "</style>\n",
       "<table border=\"1\" class=\"dataframe\">\n",
       "  <thead>\n",
       "    <tr style=\"text-align: right;\">\n",
       "      <th></th>\n",
       "      <th>File_id</th>\n",
       "      <th>Word</th>\n",
       "      <th>Tag</th>\n",
       "    </tr>\n",
       "  </thead>\n",
       "  <tbody>\n",
       "    <tr>\n",
       "      <th>0</th>\n",
       "      <td>105</td>\n",
       "      <td>Name</td>\n",
       "      <td>O</td>\n",
       "    </tr>\n",
       "    <tr>\n",
       "      <th>1</th>\n",
       "      <td>105</td>\n",
       "      <td>:</td>\n",
       "      <td>O</td>\n",
       "    </tr>\n",
       "    <tr>\n",
       "      <th>2</th>\n",
       "      <td>105</td>\n",
       "      <td>Tan</td>\n",
       "      <td>B-NAME</td>\n",
       "    </tr>\n",
       "    <tr>\n",
       "      <th>3</th>\n",
       "      <td>105</td>\n",
       "      <td>Gang</td>\n",
       "      <td>I-NAME</td>\n",
       "    </tr>\n",
       "    <tr>\n",
       "      <th>4</th>\n",
       "      <td>105</td>\n",
       "      <td>Lun</td>\n",
       "      <td>I-NAME</td>\n",
       "    </tr>\n",
       "    <tr>\n",
       "      <th>...</th>\n",
       "      <td>...</td>\n",
       "      <td>...</td>\n",
       "      <td>...</td>\n",
       "    </tr>\n",
       "    <tr>\n",
       "      <th>160120</th>\n",
       "      <td>99</td>\n",
       "      <td>Expected</td>\n",
       "      <td>O</td>\n",
       "    </tr>\n",
       "    <tr>\n",
       "      <th>160121</th>\n",
       "      <td>99</td>\n",
       "      <td>salary</td>\n",
       "      <td>O</td>\n",
       "    </tr>\n",
       "    <tr>\n",
       "      <th>160122</th>\n",
       "      <td>99</td>\n",
       "      <td>:</td>\n",
       "      <td>O</td>\n",
       "    </tr>\n",
       "    <tr>\n",
       "      <th>160123</th>\n",
       "      <td>99</td>\n",
       "      <td>$</td>\n",
       "      <td>O</td>\n",
       "    </tr>\n",
       "    <tr>\n",
       "      <th>160124</th>\n",
       "      <td>99</td>\n",
       "      <td>)</td>\n",
       "      <td>O</td>\n",
       "    </tr>\n",
       "  </tbody>\n",
       "</table>\n",
       "<p>160125 rows × 3 columns</p>\n",
       "</div>"
      ],
      "text/plain": [
       "        File_id      Word     Tag\n",
       "0           105      Name       O\n",
       "1           105         :       O\n",
       "2           105       Tan  B-NAME\n",
       "3           105      Gang  I-NAME\n",
       "4           105       Lun  I-NAME\n",
       "...         ...       ...     ...\n",
       "160120       99  Expected       O\n",
       "160121       99    salary       O\n",
       "160122       99         :       O\n",
       "160123       99         $       O\n",
       "160124       99         )       O\n",
       "\n",
       "[160125 rows x 3 columns]"
      ]
     },
     "execution_count": 14,
     "metadata": {},
     "output_type": "execute_result"
    }
   ],
   "source": [
    "df"
   ]
  },
  {
   "cell_type": "code",
   "execution_count": 15,
   "metadata": {},
   "outputs": [],
   "source": [
    "words = df['Word'].values\n",
    "tags = df['Tag'].values"
   ]
  },
  {
   "cell_type": "code",
   "execution_count": 16,
   "metadata": {},
   "outputs": [
    {
     "name": "stdout",
     "output_type": "stream",
     "text": [
      "Total # tokens: 160125\n"
     ]
    }
   ],
   "source": [
    "print(f'Total # tokens: {len(words)}')"
   ]
  },
  {
   "cell_type": "code",
   "execution_count": 17,
   "metadata": {},
   "outputs": [
    {
     "name": "stdout",
     "output_type": "stream",
     "text": [
      "Total # unique tokens: 14399\n"
     ]
    }
   ],
   "source": [
    "print(f'Total # unique tokens: {len(set(words))}')"
   ]
  },
  {
   "cell_type": "code",
   "execution_count": 18,
   "metadata": {},
   "outputs": [],
   "source": [
    "# count tags\n",
    "c = Counter(tags)\n",
    "d = Counter({k: c for k, c in c.items() if c < 2000})"
   ]
  },
  {
   "cell_type": "code",
   "execution_count": 19,
   "metadata": {},
   "outputs": [
    {
     "name": "stdout",
     "output_type": "stream",
     "text": [
      "Class count: Counter({'O': 157678, 'I-ADDRESS': 702, 'I-PHONE': 441, 'I-NAME': 261, 'B-NAME': 226, 'B-PHONE': 221, 'B-EMAIL': 204, 'B-ADDRESS': 116, 'I-DOB': 101, 'B-NATIONALITY': 66, 'B-DOB': 53, 'B-GENDER': 29, 'B-AGE': 17, 'B-ETHNICITY': 7, 'B-RELIGION': 2, 'I-NATIONALITY': 1})\n"
     ]
    }
   ],
   "source": [
    "print(f'Class count: {c}')"
   ]
  },
  {
   "cell_type": "code",
   "execution_count": 20,
   "metadata": {},
   "outputs": [],
   "source": [
    "frequencies = list(d.values())\n",
    "x_labels = list(d.keys())\n",
    "freq_series = pd.Series(frequencies)"
   ]
  },
  {
   "cell_type": "code",
   "execution_count": 21,
   "metadata": {},
   "outputs": [],
   "source": [
    "from sklearn.utils import shuffle\n",
    "\n",
    "class DocumentGetter(object):\n",
    "\n",
    "    def __init__(self, data):\n",
    "        self.n_sent = 1\n",
    "        self.data = data\n",
    "        self.empty = False\n",
    "        agg_func = lambda s: [(w, t) for w, t in zip(s[\"Word\"].values.tolist(),\n",
    "                                                           s[\"Tag\"].values.tolist())]\n",
    "        self.documents = self.data.groupby(\"File_id\").apply(agg_func)\n",
    "        \n",
    "        \n",
    "        self.train_size = 0.8\n",
    "        self.test_size = 0.1\n",
    "        self.dev_size = 0.1\n",
    "\n",
    "    def get_next(self):\n",
    "        try:\n",
    "            s = self.grouped[\"{}\".format(self.n_sent)]\n",
    "            self.n_sent += 1\n",
    "            return s\n",
    "        except:\n",
    "            return None"
   ]
  },
  {
   "cell_type": "code",
   "execution_count": 22,
   "metadata": {},
   "outputs": [],
   "source": [
    "doc_Getter = DocumentGetter(df)"
   ]
  },
  {
   "cell_type": "code",
   "execution_count": 23,
   "metadata": {},
   "outputs": [
    {
     "name": "stdout",
     "output_type": "stream",
     "text": [
      "Average document length 808.7121212121212\n"
     ]
    }
   ],
   "source": [
    "lengths = []\n",
    "for doc in doc_Getter.documents:\n",
    "    lengths.append(len(doc))\n",
    "print('Average document length', sum(lengths) / len(lengths))"
   ]
  },
  {
   "cell_type": "code",
   "execution_count": 24,
   "metadata": {},
   "outputs": [
    {
     "name": "stdout",
     "output_type": "stream",
     "text": [
      "Shortest document: 165\n"
     ]
    }
   ],
   "source": [
    "print('Shortest document:', min(lengths))"
   ]
  },
  {
   "cell_type": "code",
   "execution_count": 25,
   "metadata": {},
   "outputs": [
    {
     "name": "stdout",
     "output_type": "stream",
     "text": [
      "Longest document: 3242\n"
     ]
    }
   ],
   "source": [
    "print('Longest document:', max(lengths))"
   ]
  },
  {
   "cell_type": "code",
   "execution_count": 26,
   "metadata": {},
   "outputs": [
    {
     "data": {
      "text/plain": [
       "(array([ 2.,  7., 17., 10., 11., 19., 10., 16., 12., 10., 13.,  3.,  7.,\n",
       "        10.,  8.,  5., 10.,  5.,  4.,  1.,  3.,  1.,  3.,  1.,  1.,  1.,\n",
       "         0.,  0.,  1.,  0.,  0.,  1.,  1.,  0.,  0.,  1.,  1.,  0.,  0.,\n",
       "         0.,  2.,  0.,  0.,  0.,  0.,  0.,  0.,  0.,  0.,  1.]),\n",
       " array([ 165.  ,  226.54,  288.08,  349.62,  411.16,  472.7 ,  534.24,\n",
       "         595.78,  657.32,  718.86,  780.4 ,  841.94,  903.48,  965.02,\n",
       "        1026.56, 1088.1 , 1149.64, 1211.18, 1272.72, 1334.26, 1395.8 ,\n",
       "        1457.34, 1518.88, 1580.42, 1641.96, 1703.5 , 1765.04, 1826.58,\n",
       "        1888.12, 1949.66, 2011.2 , 2072.74, 2134.28, 2195.82, 2257.36,\n",
       "        2318.9 , 2380.44, 2441.98, 2503.52, 2565.06, 2626.6 , 2688.14,\n",
       "        2749.68, 2811.22, 2872.76, 2934.3 , 2995.84, 3057.38, 3118.92,\n",
       "        3180.46, 3242.  ]),\n",
       " <a list of 50 Patch objects>)"
      ]
     },
     "execution_count": 26,
     "metadata": {},
     "output_type": "execute_result"
    },
    {
     "data": {
      "image/png": "[encoded data removed]",
      "text/plain": [
       "<Figure size 432x288 with 1 Axes>"
      ]
     },
     "metadata": {
      "needs_background": "light"
     },
     "output_type": "display_data"
    }
   ],
   "source": [
    "# plot histogram of the document lengths\n",
    "plt.hist(lengths, bins=50)"
   ]
  },
  {
   "cell_type": "code",
   "execution_count": null,
   "metadata": {},
   "outputs": [],
   "source": [
    "# save the dataframe\n",
    "import pandas as pd \n",
    "pd.DataFrame(lengths).to_csv(\"lengths.csv\")"
   ]
  }
 ],
 "metadata": {
  "kernelspec": {
   "display_name": "Python 3",
   "language": "python",
   "name": "python3"
  },
  "language_info": {
   "codemirror_mode": {
    "name": "ipython",
    "version": 3
   },
   "file_extension": ".py",
   "mimetype": "text/x-python",
   "name": "python",
   "nbconvert_exporter": "python",
   "pygments_lexer": "ipython3",
   "version": "3.8.3"
  }
 },
 "nbformat": 4,
 "nbformat_minor": 4
}
