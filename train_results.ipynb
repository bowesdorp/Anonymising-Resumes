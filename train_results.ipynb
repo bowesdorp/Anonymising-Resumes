{
 "cells": [
  {
   "cell_type": "code",
   "execution_count": 1,
   "metadata": {},
   "outputs": [],
   "source": [
    "import re\n",
    "import pandas as pd\n",
    "import random\n",
    "import os\n",
    "import numpy as np"
   ]
  },
  {
   "cell_type": "code",
   "execution_count": 2,
   "metadata": {},
   "outputs": [],
   "source": [
    "path = './data/results/train_sizes'"
   ]
  },
  {
   "cell_type": "code",
   "execution_count": 3,
   "metadata": {},
   "outputs": [],
   "source": [
    "def calc_f1(p, r):\n",
    "    return 2 * ((p*r)/(p+r))"
   ]
  },
  {
   "cell_type": "code",
   "execution_count": 4,
   "metadata": {},
   "outputs": [],
   "source": [
    "def calc_macro(p, r, f):    \n",
    "    m_p = sum(p)/len(p)\n",
    "    m_r = sum(r)/len(r)    \n",
    "    m_f1 = sum(f)/len(f) \n",
    "    return round(m_p,4), round(m_r,4), round(m_f1,4)\n",
    "    \n",
    "def calc_micro(tp, fp, fn):\n",
    "    m_p = sum(tp)/(sum(tp)+sum(fp))\n",
    "    m_r = sum(tp)/(sum(tp)+sum(fn))\n",
    "    m_f1 = calc_f1(m_p, m_r)\n",
    "    return round(m_p,4), round(m_r,4), round(m_f1,4)"
   ]
  },
  {
   "cell_type": "code",
   "execution_count": 5,
   "metadata": {},
   "outputs": [],
   "source": [
    "def get_results(path):\n",
    "    f = open(path, \"r\")\n",
    "\n",
    "    precisions = []\n",
    "    recalls = []\n",
    "    f1 = []\n",
    "    tps = []\n",
    "    fps = []\n",
    "    fns = []\n",
    "    for line in f:\n",
    "        if 'micro' in line:\n",
    "            microf1 = line.split(\" \")[3].strip()\n",
    "        elif 'macro' in line:\n",
    "            macrof1 = line.split(\" \")[3].strip()\n",
    "        elif 'tp' in line:\n",
    "            split = line.split(\":\")\n",
    "            # macro\n",
    "            precision = split[4].split(\"-\")[0].strip()\n",
    "            recall = split[5].split(\"-\")[0].strip()\n",
    "            precisions.append(float(precision)) \n",
    "            recalls.append(float(recall))\n",
    "            f1.append(float(split[6].strip()))\n",
    "\n",
    "            #micro\n",
    "            tp = split[1].split(\"-\")[0].strip()\n",
    "            fp = split[2].split(\"-\")[0].strip()\n",
    "            fn = split[3].split(\"-\")[0].strip()\n",
    "\n",
    "            tps.append(float(tp))\n",
    "            fps.append(float(fp))\n",
    "            fns.append(float(fn))\n",
    "\n",
    "\n",
    "    micro_p, micro_r, micro_f1 = calc_micro(tps, fps, fns)\n",
    "#     print('Micro: p=',micro_p, ' r=', micro_r, ' f1=', micro_f1)\n",
    "\n",
    "    macro_p, macro_r, macro_f1 = calc_macro(precisions, recalls, f1)\n",
    "#     print('Macro: p=',macro_p, ' r=', macro_r, ' f1=', macro_f1)\n",
    "    \n",
    "    r = [micro_p, micro_r, micro_f1, macro_p, macro_r, macro_f1]\n",
    "    return r"
   ]
  },
  {
   "cell_type": "code",
   "execution_count": 6,
   "metadata": {},
   "outputs": [
    {
     "name": "stdout",
     "output_type": "stream",
     "text": [
      "./data/results/train_sizes/bert-elmo-flair\n",
      "./data/results/train_sizes/bert-flair\n",
      "./data/results/train_sizes/flair\n",
      "./data/results/train_sizes/elmo\n",
      "./data/results/train_sizes/elmo-flair\n",
      "./data/results/train_sizes/bert-elmo\n",
      "./data/results/train_sizes/bert\n"
     ]
    }
   ],
   "source": [
    "for subdir, dirs, files in os.walk(path):\n",
    "    if subdir != './data/results/train_sizes':\n",
    "        temp = []\n",
    "        headers = ['Train size', 'Dataset', 'P-micro', 'R-micro', 'F1-micro', 'P-macro', 'R-macro', 'F1-macro']\n",
    "        print(subdir)\n",
    "        datasets = np.arange(1, 6, 1).tolist()\n",
    "        train_splits = np.arange(20, 100, 20).tolist()\n",
    "            \n",
    "        for train_split in train_splits:\n",
    "            for dataset in datasets:\n",
    "                cur_file = 'results_' + str(dataset) + '_' + str(train_split) + '.txt'\n",
    "                results = get_results(os.path.join(subdir, cur_file))\n",
    "                    \n",
    "                \n",
    "                temp.append(([train_split, dataset] + results))\n",
    "        df = pd.DataFrame(data=temp, columns=headers)\n",
    "        df.to_csv(os.path.join(subdir, 'results.csv'), index=False)"
   ]
  },
  {
   "cell_type": "code",
   "execution_count": null,
   "metadata": {},
   "outputs": [],
   "source": []
  },
  {
   "cell_type": "code",
   "execution_count": null,
   "metadata": {},
   "outputs": [],
   "source": []
  }
 ],
 "metadata": {
  "kernelspec": {
   "display_name": "Python 3",
   "language": "python",
   "name": "python3"
  },
  "language_info": {
   "codemirror_mode": {
    "name": "ipython",
    "version": 3
   },
   "file_extension": ".py",
   "mimetype": "text/x-python",
   "name": "python",
   "nbconvert_exporter": "python",
   "pygments_lexer": "ipython3",
   "version": "3.8.3"
  }
 },
 "nbformat": 4,
 "nbformat_minor": 4
}
