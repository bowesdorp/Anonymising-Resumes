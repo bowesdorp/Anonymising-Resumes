{
 "cells": [
  {
   "cell_type": "code",
   "execution_count": 10,
   "metadata": {},
   "outputs": [],
   "source": [
    "# The following file contains the code for the anonymiser"
   ]
  },
  {
   "cell_type": "code",
   "execution_count": 11,
   "metadata": {},
   "outputs": [],
   "source": [
    "from flair.models import SequenceTagger\n",
    "from flair.data import Sentence\n",
    "from flair.data import Corpus\n",
    "from flair.datasets import ColumnCorpus, DataLoader\n",
    "import os\n",
    "import allennlp"
   ]
  },
  {
   "cell_type": "code",
   "execution_count": 12,
   "metadata": {},
   "outputs": [],
   "source": [
    "# the anonymiser\n",
    "class Anonymiser:\n",
    "    \n",
    "    # init the anonymiser\n",
    "    def __init__(self):\n",
    "        self.model = SequenceTagger.load(\n",
    "            os.getcwd()+'/resources/models/total/bilstm-crf/bert-elmo/best-model.pt')\n",
    "        self.anonymise_mode = 'suppresion'\n",
    "        self.anonymised = []\n",
    "    \n",
    "    # anonymise the token if it contains sensitive information\n",
    "    def anonymise(self, text):\n",
    "        self.predict_tags(text)\n",
    "        \n",
    "        for t in self.tagged_sentence:\n",
    "            self.anonymised.append(self.suppress(t))\n",
    "    \n",
    "        return self.anonymised\n",
    "    \n",
    "    # predict the tags for the text\n",
    "    def predict_tags(self, text):\n",
    "        sentence = Sentence(text)\n",
    "        self.model.predict(sentence)\n",
    "        self.tagged_sentence = sentence\n",
    "    \n",
    "    # suppress the token if it contains sensitive information \n",
    "    def suppress(self, token):\n",
    "        tag = token.get_tag('ner')\n",
    "            \n",
    "        if tag.value == \"O\":\n",
    "            return token.text\n",
    "        else:\n",
    "            return tag.value.split(\"-\")[1]\n",
    "            "
   ]
  },
  {
   "cell_type": "code",
   "execution_count": 13,
   "metadata": {},
   "outputs": [],
   "source": [
    "# example resume\n",
    "resume = \"Mohamed Williams ( MBA - Finance ) Jalan Nakula , Indonesia Mobile : +1 5690234 Email : amylevine@nunez.com With 4 years of professional experience in Fund Accounting ,  Initiation of SOX for \""
   ]
  },
  {
   "cell_type": "code",
   "execution_count": 14,
   "metadata": {},
   "outputs": [
    {
     "name": "stdout",
     "output_type": "stream",
     "text": [
      "2021-06-29 11:53:31,092 loading file /Users/bowesdorp/PycharmProjects/Anonymising-Resumes/resources/models/total/bilstm-crf/bert-elmo/best-model.pt\n"
     ]
    }
   ],
   "source": [
    "# init class\n",
    "a = Anonymiser()\n",
    "anon = a.anonymise(resume)"
   ]
  },
  {
   "cell_type": "code",
   "execution_count": 15,
   "metadata": {},
   "outputs": [
    {
     "name": "stdout",
     "output_type": "stream",
     "text": [
      "['NAME', 'NAME', '(', 'MBA', '-', 'Finance', ')', 'NAME', 'NAME', ',', 'Indonesia', 'Mobile', ':', 'PHONE', 'PHONE', 'PHONE', 'Email', ':', 'EMAIL', '@', 'EMAIL', 'With', '4', 'years', 'of', 'professional', 'experience', 'in', 'Fund', 'Accounting', ',', 'Initiation', 'of', 'SOX', 'for']\n"
     ]
    }
   ],
   "source": [
    "# anonymised version\n",
    "print(anon)"
   ]
  }
 ],
 "metadata": {
  "kernelspec": {
   "display_name": "Python 3",
   "language": "python",
   "name": "python3"
  },
  "language_info": {
   "codemirror_mode": {
    "name": "ipython",
    "version": 3
   },
   "file_extension": ".py",
   "mimetype": "text/x-python",
   "name": "python",
   "nbconvert_exporter": "python",
   "pygments_lexer": "ipython3",
   "version": "3.7.10"
  }
 },
 "nbformat": 4,
 "nbformat_minor": 4
}
