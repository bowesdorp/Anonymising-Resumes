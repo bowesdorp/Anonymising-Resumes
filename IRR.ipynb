{
 "cells": [
  {
   "cell_type": "code",
   "execution_count": 8,
   "metadata": {},
   "outputs": [],
   "source": [
    "# the following file contains code for the interrater-responsibility"
   ]
  },
  {
   "cell_type": "code",
   "execution_count": 14,
   "metadata": {},
   "outputs": [],
   "source": [
    "import pandas as pd\n",
    "import matplotlib.pyplot as plt\n",
    "from nltk import agreement\n"
   ]
  },
  {
   "cell_type": "code",
   "execution_count": 15,
   "metadata": {},
   "outputs": [],
   "source": [
    "def remove_edu(df):\n",
    "    df.loc[df['Tag'] == 'B-EDUCATION', 'Tag'] = 'O'\n",
    "    df.loc[df['Tag'] == 'I-EDUCATION', 'Tag'] = 'O'\n",
    "    return df\n",
    "    \n",
    "    "
   ]
  },
  {
   "cell_type": "code",
   "execution_count": 16,
   "metadata": {},
   "outputs": [],
   "source": [
    "# load the data\n",
    "data_a1 = pd.read_csv('./data/annotater_data/annotater_1_v1/csv/1_198.csv', encoding=\"latin1\")\n",
    "data_a2 = pd.read_csv('./data/annotater_data/annotater_2_v4/csv/1_198.csv', encoding=\"latin1\")\n",
    "data_a3 = pd.read_csv('./data/annotater_data/annotater_3_v3/csv/1_198.csv', encoding=\"latin1\")\n",
    "data_a4 = pd.read_csv('./data/annotater_data/annotater_4_v2/csv/1_198.csv', encoding=\"latin1\")\n",
    "\n",
    "# drop all the rows, which contain NaN values\n",
    "data_a1 = data_a1.dropna()\n",
    "data_a2 = data_a2.dropna()\n",
    "data_a3 = data_a3.dropna()\n",
    "data_a4 = data_a4.dropna()"
   ]
  },
  {
   "cell_type": "code",
   "execution_count": 17,
   "metadata": {},
   "outputs": [
    {
     "name": "stdout",
     "output_type": "stream",
     "text": [
      "{'B-PHONE', 'B-NATIONALITY', 'B-EMAIL', 'B-GENDER', 'B-DOB', 'O', 'B-ETHNICITY', 'I-PHONE', 'I-DOB', 'B-NAME', 'B-RELIGION', 'I-NAME', 'I-EMAIL', 'I-NATIONALITY', 'B-ADDRESS', 'B-AGE', 'I-ADDRESS', 'I-AGE'}\n"
     ]
    }
   ],
   "source": [
    "# get tags\n",
    "a1_tags = remove_edu(data_a1)['Tag'].values\n",
    "a2_tags = remove_edu(data_a2)['Tag'].values\n",
    "a3_tags = remove_edu(data_a3)['Tag'].values\n",
    "a4_tags = remove_edu(data_a4)['Tag'].values\n",
    "                           \n",
    "                         \n",
    "                           \n",
    "print(set(a1_tags))"
   ]
  },
  {
   "cell_type": "code",
   "execution_count": 25,
   "metadata": {},
   "outputs": [
    {
     "data": {
      "text/plain": [
       "O                157617\n",
       "I-ADDRESS           708\n",
       "I-PHONE             478\n",
       "I-NAME              251\n",
       "B-PHONE             228\n",
       "B-NAME              218\n",
       "B-EMAIL             215\n",
       "B-ADDRESS           116\n",
       "I-DOB                97\n",
       "B-NATIONALITY        75\n",
       "B-DOB                52\n",
       "B-GENDER             25\n",
       "B-AGE                18\n",
       "B-ETHNICITY          12\n",
       "I-NATIONALITY         6\n",
       "I-EMAIL               5\n",
       "B-RELIGION            2\n",
       "I-AGE                 2\n",
       "Name: Tag, dtype: int64"
      ]
     },
     "execution_count": 25,
     "metadata": {},
     "output_type": "execute_result"
    }
   ],
   "source": [
    "data_a1['Tag'].value_counts()"
   ]
  },
  {
   "cell_type": "code",
   "execution_count": 18,
   "metadata": {},
   "outputs": [
    {
     "data": {
      "text/plain": [
       "O                157710\n",
       "I-ADDRESS           709\n",
       "I-PHONE             432\n",
       "I-NAME              252\n",
       "B-NAME              219\n",
       "B-PHONE             216\n",
       "B-EMAIL             204\n",
       "B-ADDRESS           117\n",
       "I-DOB               101\n",
       "B-NATIONALITY        57\n",
       "B-DOB                53\n",
       "B-GENDER             28\n",
       "B-AGE                17\n",
       "B-ETHNICITY           6\n",
       "B-RELIGION            3\n",
       "I-EMAIL               1\n",
       "Name: Tag, dtype: int64"
      ]
     },
     "execution_count": 18,
     "metadata": {},
     "output_type": "execute_result"
    }
   ],
   "source": [
    "data_a2['Tag'].value_counts()"
   ]
  },
  {
   "cell_type": "code",
   "execution_count": 19,
   "metadata": {},
   "outputs": [
    {
     "data": {
      "text/plain": [
       "O                157646\n",
       "I-ADDRESS           714\n",
       "I-PHONE             448\n",
       "I-NAME              257\n",
       "B-NAME              226\n",
       "B-PHONE             222\n",
       "B-EMAIL             207\n",
       "B-ADDRESS           117\n",
       "I-DOB               103\n",
       "B-NATIONALITY        70\n",
       "B-DOB                54\n",
       "B-GENDER             29\n",
       "B-AGE                17\n",
       "B-ETHNICITY           7\n",
       "I-EMAIL               3\n",
       "I-NATIONALITY         2\n",
       "B-RELIGION            2\n",
       "I-AGE                 1\n",
       "Name: Tag, dtype: int64"
      ]
     },
     "execution_count": 19,
     "metadata": {},
     "output_type": "execute_result"
    }
   ],
   "source": [
    "data_a3['Tag'].value_counts()"
   ]
  },
  {
   "cell_type": "code",
   "execution_count": 20,
   "metadata": {},
   "outputs": [
    {
     "data": {
      "text/plain": [
       "O                157669\n",
       "I-ADDRESS           702\n",
       "I-PHONE             443\n",
       "I-NAME              265\n",
       "B-NAME              228\n",
       "B-PHONE             219\n",
       "B-EMAIL             202\n",
       "B-ADDRESS           117\n",
       "I-DOB               100\n",
       "B-NATIONALITY        66\n",
       "B-DOB                52\n",
       "B-GENDER             29\n",
       "B-AGE                17\n",
       "B-ETHNICITY          10\n",
       "I-NATIONALITY         2\n",
       "I-EMAIL               2\n",
       "B-RELIGION            2\n",
       "Name: Tag, dtype: int64"
      ]
     },
     "execution_count": 20,
     "metadata": {},
     "output_type": "execute_result"
    }
   ],
   "source": [
    "data_a4['Tag'].value_counts()"
   ]
  },
  {
   "cell_type": "code",
   "execution_count": 21,
   "metadata": {},
   "outputs": [],
   "source": [
    "# get the right format for the tags\n",
    "t1 = [[0,str(i),str(a1_tags[i])] for i in range(0,len(a1_tags))] \n",
    "t2 = [[1,str(i),str(a2_tags[i])] for i in range(0,len(a2_tags))] \n",
    "t3 = [[2,str(i),str(a3_tags[i])] for i in range(0,len(a3_tags))] \n",
    "t4 = [[3,str(i),str(a4_tags[i])] for i in range(0,len(a4_tags))] "
   ]
  },
  {
   "cell_type": "code",
   "execution_count": 26,
   "metadata": {},
   "outputs": [],
   "source": [
    "# IRR with the 'O' tags"
   ]
  },
  {
   "cell_type": "code",
   "execution_count": 27,
   "metadata": {},
   "outputs": [
    {
     "name": "stdout",
     "output_type": "stream",
     "text": [
      "A1 and A2\n",
      "Cohen's Kappa: 0.9335967419895922\n",
      "Fleiss' Multi-Kappa: 0.9335967419895922\n",
      "Krippendorff’s Alpha: 0.9335967054550277\n",
      "Scott's Pi: 0.9335964981060764\n",
      "Bennett, Alpert and Goldstein's S: 0.9978575561372091\n"
     ]
    }
   ],
   "source": [
    "# irr a1 + a2\n",
    "taskdata = t1 + t2\n",
    "ratingtask = agreement.AnnotationTask(data=taskdata)\n",
    "\n",
    "print('A1 and A2')\n",
    "print(\"Cohen's Kappa: \" +str(ratingtask.kappa()))\n",
    "print(\"Fleiss' Multi-Kappa: \" + str(ratingtask.multi_kappa()))\n",
    "print(\"Krippendorff’s Alpha: \" +str(ratingtask.alpha()))\n",
    "print(\"Scott's Pi: \" + str(ratingtask.pi()))\n",
    "print(\"Bennett, Alpert and Goldstein's S: \" + str(ratingtask.S()))"
   ]
  },
  {
   "cell_type": "code",
   "execution_count": 28,
   "metadata": {},
   "outputs": [
    {
     "name": "stdout",
     "output_type": "stream",
     "text": [
      "A1 and A3\n",
      "Cohen's Kappa: 0.9338347116767236\n",
      "Fleiss' Multi-Kappa: 0.9338347116767236\n",
      "Krippendorff’s Alpha: 0.9338348742617583\n",
      "Scott's Pi: 0.9338346676565051\n",
      "Bennett, Alpert and Goldstein's S: 0.997837718694035\n"
     ]
    }
   ],
   "source": [
    "# irr a1 + a3\n",
    "taskdata = t1 + t3\n",
    "ratingtask = agreement.AnnotationTask(data=taskdata)\n",
    "\n",
    "print('A1 and A3')\n",
    "print(\"Cohen's Kappa: \" +str(ratingtask.kappa()))\n",
    "print(\"Fleiss' Multi-Kappa: \" + str(ratingtask.multi_kappa()))\n",
    "print(\"Krippendorff’s Alpha: \" +str(ratingtask.alpha()))\n",
    "print(\"Scott's Pi: \" + str(ratingtask.pi()))\n",
    "print(\"Bennett, Alpert and Goldstein's S: \" + str(ratingtask.S()))"
   ]
  },
  {
   "cell_type": "code",
   "execution_count": 29,
   "metadata": {},
   "outputs": [
    {
     "name": "stdout",
     "output_type": "stream",
     "text": [
      "A1 and A4\n",
      "Cohen's Kappa: 0.9402390019484327\n",
      "Fleiss' Multi-Kappa: 0.9402390019484327\n",
      "Krippendorff’s Alpha: 0.9402391003274031\n",
      "Scott's Pi: 0.9402389137197962\n",
      "Bennett, Alpert and Goldstein's S: 0.9980559305689489\n"
     ]
    }
   ],
   "source": [
    "# irr a1 + a4\n",
    "taskdata = t1 + t4\n",
    "ratingtask = agreement.AnnotationTask(data=taskdata)\n",
    "\n",
    "print('A1 and A4')\n",
    "print(\"Cohen's Kappa: \" +str(ratingtask.kappa()))\n",
    "print(\"Fleiss' Multi-Kappa: \" + str(ratingtask.multi_kappa()))\n",
    "print(\"Krippendorff’s Alpha: \" +str(ratingtask.alpha()))\n",
    "print(\"Scott's Pi: \" + str(ratingtask.pi()))\n",
    "print(\"Bennett, Alpert and Goldstein's S: \" + str(ratingtask.S()))"
   ]
  },
  {
   "cell_type": "code",
   "execution_count": 30,
   "metadata": {},
   "outputs": [],
   "source": [
    "# IRR without 'O' tag"
   ]
  },
  {
   "cell_type": "code",
   "execution_count": 31,
   "metadata": {},
   "outputs": [],
   "source": [
    "a1 = []\n",
    "a2 = []\n",
    "a3 = []\n",
    "a4 = []\n",
    "\n",
    "for i in range(len(a1_tags)):\n",
    "    \n",
    "    if a1_tags[i] != \"O\" or a2_tags[i] != \"O\" or a3_tags[i] != \"O\" or a4_tags[i] != \"O\":\n",
    "        a1.append(a1_tags[i])\n",
    "        a2.append(a2_tags[i])\n",
    "        a3.append(a3_tags[i])\n",
    "        a4.append(a4_tags[i])"
   ]
  },
  {
   "cell_type": "code",
   "execution_count": 32,
   "metadata": {},
   "outputs": [],
   "source": [
    "t1 = [[0,str(i),str(a1[i])] for i in range(0,len(a1))] \n",
    "t2 = [[1,str(i),str(a2[i])] for i in range(0,len(a2))] \n",
    "t3 = [[2,str(i),str(a3[i])] for i in range(0,len(a3))] \n",
    "t4 = [[3,str(i),str(a4[i])] for i in range(0,len(a4))] "
   ]
  },
  {
   "cell_type": "code",
   "execution_count": 33,
   "metadata": {},
   "outputs": [
    {
     "name": "stdout",
     "output_type": "stream",
     "text": [
      "A1 and A2\n",
      "Cohen's Kappa: 0.8595473337492259\n",
      "Fleiss' Multi-Kappa: 0.8595473337492259\n",
      "Krippendorff’s Alpha: 0.8595082703565744\n",
      "Scott's Pi: 0.8594820151277118\n",
      "Bennett, Alpert and Goldstein's S: 0.8718016354523872\n"
     ]
    }
   ],
   "source": [
    "# IRR a1+a2\n",
    "taskdata = t1 + t2\n",
    "ratingtask = agreement.AnnotationTask(data=taskdata)\n",
    "\n",
    "print('A1 and A2')\n",
    "print(\"Cohen's Kappa: \" +str(ratingtask.kappa()))\n",
    "print(\"Fleiss' Multi-Kappa: \" + str(ratingtask.multi_kappa()))\n",
    "print(\"Krippendorff’s Alpha: \" +str(ratingtask.alpha()))\n",
    "print(\"Scott's Pi: \" + str(ratingtask.pi()))\n",
    "print(\"Bennett, Alpert and Goldstein's S: \" + str(ratingtask.S()))"
   ]
  },
  {
   "cell_type": "code",
   "execution_count": 34,
   "metadata": {},
   "outputs": [
    {
     "name": "stdout",
     "output_type": "stream",
     "text": [
      "A1 and A3\n",
      "Cohen's Kappa: 0.8580971981294593\n",
      "Fleiss' Multi-Kappa: 0.8580971981294593\n",
      "Krippendorff’s Alpha: 0.8581115976926816\n",
      "Scott's Pi: 0.8580850814522953\n",
      "Bennett, Alpert and Goldstein's S: 0.8706146135584278\n"
     ]
    }
   ],
   "source": [
    "# IRR a1+a3\n",
    "\n",
    "taskdata = t1 + t3\n",
    "ratingtask = agreement.AnnotationTask(data=taskdata)\n",
    "\n",
    "print('A1 and A3')\n",
    "print(\"Cohen's Kappa: \" +str(ratingtask.kappa()))\n",
    "print(\"Fleiss' Multi-Kappa: \" + str(ratingtask.multi_kappa()))\n",
    "print(\"Krippendorff’s Alpha: \" +str(ratingtask.alpha()))\n",
    "print(\"Scott's Pi: \" + str(ratingtask.pi()))\n",
    "print(\"Bennett, Alpert and Goldstein's S: \" + str(ratingtask.S()))"
   ]
  },
  {
   "cell_type": "code",
   "execution_count": 35,
   "metadata": {},
   "outputs": [
    {
     "name": "stdout",
     "output_type": "stream",
     "text": [
      "A1 and A4\n",
      "Cohen's Kappa: 0.8725623878078814\n",
      "Fleiss' Multi-Kappa: 0.8725623878078814\n",
      "Krippendorff’s Alpha: 0.8725621917831301\n",
      "Scott's Pi: 0.8725383760835941\n",
      "Bennett, Alpert and Goldstein's S: 0.883671854391981\n"
     ]
    }
   ],
   "source": [
    "# IRR a1+a4\n",
    "\n",
    "taskdata = t1 + t4\n",
    "ratingtask = agreement.AnnotationTask(data=taskdata)\n",
    "\n",
    "print('A1 and A4')\n",
    "print(\"Cohen's Kappa: \" +str(ratingtask.kappa()))\n",
    "print(\"Fleiss' Multi-Kappa: \" + str(ratingtask.multi_kappa()))\n",
    "print(\"Krippendorff’s Alpha: \" +str(ratingtask.alpha()))\n",
    "print(\"Scott's Pi: \" + str(ratingtask.pi()))\n",
    "print(\"Bennett, Alpert and Goldstein's S: \" + str(ratingtask.S()))"
   ]
  },
  {
   "cell_type": "code",
   "execution_count": 36,
   "metadata": {},
   "outputs": [
    {
     "name": "stdout",
     "output_type": "stream",
     "text": [
      "A2 and A3\n",
      "Cohen's Kappa: 0.912003101115245\n",
      "Fleiss' Multi-Kappa: 0.912003101115245\n",
      "Krippendorff’s Alpha: 0.912002858025864\n",
      "Scott's Pi: 0.9119864130357735\n",
      "Bennett, Alpert and Goldstein's S: 0.9196781851754154\n"
     ]
    }
   ],
   "source": [
    "# IRR a2+a3\n",
    "\n",
    "taskdata = t2 + t3\n",
    "ratingtask = agreement.AnnotationTask(data=taskdata)\n",
    "\n",
    "print('A2 and A3')\n",
    "print(\"Cohen's Kappa: \" +str(ratingtask.kappa()))\n",
    "print(\"Fleiss' Multi-Kappa: \" + str(ratingtask.multi_kappa()))\n",
    "print(\"Krippendorff’s Alpha: \" +str(ratingtask.alpha()))\n",
    "print(\"Scott's Pi: \" + str(ratingtask.pi()))\n",
    "print(\"Bennett, Alpert and Goldstein's S: \" + str(ratingtask.S()))"
   ]
  },
  {
   "cell_type": "code",
   "execution_count": 37,
   "metadata": {},
   "outputs": [
    {
     "name": "stdout",
     "output_type": "stream",
     "text": [
      "A2 and A4\n",
      "Cohen's Kappa: 0.9441215119650126\n",
      "Fleiss' Multi-Kappa: 0.9441215119650126\n",
      "Krippendorff’s Alpha: 0.9441269330945199\n",
      "Scott's Pi: 0.9441164914823156\n",
      "Bennett, Alpert and Goldstein's S: 0.9487808295964126\n"
     ]
    }
   ],
   "source": [
    "# IRR a2+a4\n",
    "\n",
    "taskdata = t2 + t4\n",
    "ratingtask = agreement.AnnotationTask(data=taskdata)\n",
    "\n",
    "print('A2 and A4')\n",
    "print(\"Cohen's Kappa: \" +str(ratingtask.kappa()))\n",
    "print(\"Fleiss' Multi-Kappa: \" + str(ratingtask.multi_kappa()))\n",
    "print(\"Krippendorff’s Alpha: \" +str(ratingtask.alpha()))\n",
    "print(\"Scott's Pi: \" + str(ratingtask.pi()))\n",
    "print(\"Bennett, Alpert and Goldstein's S: \" + str(ratingtask.S()))"
   ]
  },
  {
   "cell_type": "code",
   "execution_count": 38,
   "metadata": {},
   "outputs": [
    {
     "name": "stdout",
     "output_type": "stream",
     "text": [
      "A3 and A4\n",
      "Cohen's Kappa: 0.937165276601037\n",
      "Fleiss' Multi-Kappa: 0.937165276601037\n",
      "Krippendorff’s Alpha: 0.9371748805432453\n",
      "Scott's Pi: 0.9371631397248082\n",
      "Bennett, Alpert and Goldstein's S: 0.9426272751252968\n"
     ]
    }
   ],
   "source": [
    "# IRR a3+a4\n",
    "\n",
    "taskdata = t3 + t4\n",
    "ratingtask = agreement.AnnotationTask(data=taskdata)\n",
    "\n",
    "print('A3 and A4')\n",
    "print(\"Cohen's Kappa: \" +str(ratingtask.kappa()))\n",
    "print(\"Fleiss' Multi-Kappa: \" + str(ratingtask.multi_kappa()))\n",
    "print(\"Krippendorff’s Alpha: \" +str(ratingtask.alpha()))\n",
    "print(\"Scott's Pi: \" + str(ratingtask.pi()))\n",
    "print(\"Bennett, Alpert and Goldstein's S: \" + str(ratingtask.S()))"
   ]
  },
  {
   "cell_type": "code",
   "execution_count": 39,
   "metadata": {},
   "outputs": [
    {
     "name": "stdout",
     "output_type": "stream",
     "text": [
      "A2 and A3, A4\n",
      "Cohen's Kappa: 0.9310966298937648\n",
      "Fleiss' Multi-Kappa: 0.9311004431382395\n",
      "Krippendorff’s Alpha: 0.9311042270340946\n",
      "Scott's Pi: 0.9310956440301124\n",
      "Bennett, Alpert and Goldstein's S: 0.9370878396201531\n"
     ]
    }
   ],
   "source": [
    "# IRR a2+a3+a4\n",
    "\n",
    "taskdata = t2 + t3 + t4\n",
    "ratingtask = agreement.AnnotationTask(data=taskdata)\n",
    "\n",
    "print('A2 and A3, A4')\n",
    "print(\"Cohen's Kappa: \" +str(ratingtask.kappa()))\n",
    "print(\"Fleiss' Multi-Kappa: \" + str(ratingtask.multi_kappa()))\n",
    "print(\"Krippendorff’s Alpha: \" +str(ratingtask.alpha()))\n",
    "print(\"Scott's Pi: \" + str(ratingtask.pi()))\n",
    "print(\"Bennett, Alpert and Goldstein's S: \" + str(ratingtask.S()))"
   ]
  },
  {
   "cell_type": "code",
   "execution_count": 40,
   "metadata": {},
   "outputs": [],
   "source": [
    "from collections import Counter"
   ]
  },
  {
   "cell_type": "code",
   "execution_count": 41,
   "metadata": {},
   "outputs": [],
   "source": [
    "# select the most frequent class\n",
    "def vote(votes: list):\n",
    "    return max(votes,key=votes.count)\n"
   ]
  },
  {
   "cell_type": "code",
   "execution_count": 42,
   "metadata": {},
   "outputs": [],
   "source": [
    "final = []\n",
    "for i in range(len(a1_tags)):\n",
    "    tag = vote([a2_tags[i], a3_tags[i], a4_tags[i]])\n",
    "    final.append(tag)"
   ]
  },
  {
   "cell_type": "code",
   "execution_count": null,
   "metadata": {},
   "outputs": [],
   "source": []
  },
  {
   "cell_type": "code",
   "execution_count": null,
   "metadata": {},
   "outputs": [],
   "source": [
    "# generate final dataset"
   ]
  },
  {
   "cell_type": "code",
   "execution_count": 31,
   "metadata": {},
   "outputs": [],
   "source": [
    "words = list(data_a1['Word'].values)\n",
    "file_ids = list(data_a1['File_id'].values)"
   ]
  },
  {
   "cell_type": "code",
   "execution_count": 32,
   "metadata": {},
   "outputs": [],
   "source": []
  },
  {
   "cell_type": "code",
   "execution_count": 33,
   "metadata": {},
   "outputs": [],
   "source": [
    "d = {\n",
    "    'File_id': file_ids,\n",
    "    'Word': words,\n",
    "    'Tag': final\n",
    "}"
   ]
  },
  {
   "cell_type": "code",
   "execution_count": 34,
   "metadata": {},
   "outputs": [],
   "source": [
    "df = pd.DataFrame(d)"
   ]
  },
  {
   "cell_type": "code",
   "execution_count": null,
   "metadata": {},
   "outputs": [],
   "source": [
    "df.to_csv(r'data/dataset.csv', index = False)\n"
   ]
  },
  {
   "cell_type": "code",
   "execution_count": null,
   "metadata": {},
   "outputs": [],
   "source": []
  },
  {
   "cell_type": "code",
   "execution_count": null,
   "metadata": {},
   "outputs": [],
   "source": []
  }
 ],
 "metadata": {
  "kernelspec": {
   "display_name": "Python 3",
   "language": "python",
   "name": "python3"
  },
  "language_info": {
   "codemirror_mode": {
    "name": "ipython",
    "version": 3
   },
   "file_extension": ".py",
   "mimetype": "text/x-python",
   "name": "python",
   "nbconvert_exporter": "python",
   "pygments_lexer": "ipython3",
   "version": "3.8.3"
  }
 },
 "nbformat": 4,
 "nbformat_minor": 4
}
